{
 "cells": [
  {
   "cell_type": "code",
   "execution_count": 1,
   "metadata": {},
   "outputs": [],
   "source": [
    "#import \n",
    "import pandas as pd\n",
    "import numpy as np \n",
    "import matplotlib.pyplot as plt \n",
    "import seaborn as sns "
   ]
  },
  {
   "cell_type": "code",
   "execution_count": 2,
   "metadata": {},
   "outputs": [
    {
     "data": {
      "text/plain": [
       "(8035, 13)"
      ]
     },
     "execution_count": 2,
     "metadata": {},
     "output_type": "execute_result"
    }
   ],
   "source": [
    "# import the data \n",
    "dfc = pd.read_csv(r\"C:\\Users\\RaefS\\saudi-arabia-used-cars-dataset\\saudi-arabia-used-cars-dataset\\UsedCarsSA_Clean_EN.csv\")\n",
    "dfc.shape\n"
   ]
  },
  {
   "cell_type": "code",
   "execution_count": 3,
   "metadata": {},
   "outputs": [
    {
     "data": {
      "text/plain": [
       "(5385, 13)"
      ]
     },
     "execution_count": 3,
     "metadata": {},
     "output_type": "execute_result"
    }
   ],
   "source": [
    "duplicateOFRow = dfc[dfc.duplicated()] # check \n",
    "dfc = dfc.drop_duplicates() \n",
    "dfc = dfc[dfc['Price'] > 7000]\n",
    "dfc.shape"
   ]
  },
  {
   "cell_type": "code",
   "execution_count": 4,
   "metadata": {},
   "outputs": [
    {
     "data": {
      "text/plain": [
       "<AxesSubplot:xlabel='Engine_Size', ylabel='count'>"
      ]
     },
     "execution_count": 4,
     "metadata": {},
     "output_type": "execute_result"
    },
    {
     "data": {
      "image/png": "[encoded data removed]",
      "text/plain": [
       "<Figure size 432x288 with 1 Axes>"
      ]
     },
     "metadata": {
      "needs_background": "light"
     },
     "output_type": "display_data"
    }
   ],
   "source": [
    "sns.countplot(x= 'Engine_Size' , data = dfc)\n",
    "# len(x)\n"
   ]
  },
  {
   "cell_type": "code",
   "execution_count": 5,
   "metadata": {},
   "outputs": [],
   "source": [
    "#what is my goal from this graph ? \n",
    "# To see the engine size for the cars over the years \n",
    "copydf = dfc.copy()"
   ]
  },
  {
   "cell_type": "code",
   "execution_count": 6,
   "metadata": {},
   "outputs": [],
   "source": [
    "copydf['Engine_class'] = copydf['Engine_Size'].apply(lambda x : 'Small' if x < 5 else 'Large') "
   ]
  },
  {
   "cell_type": "code",
   "execution_count": 7,
   "metadata": {},
   "outputs": [
    {
     "data": {
      "text/html": [
       "<div>\n",
       "<style scoped>\n",
       "    .dataframe tbody tr th:only-of-type {\n",
       "        vertical-align: middle;\n",
       "    }\n",
       "\n",
       "    .dataframe tbody tr th {\n",
       "        vertical-align: top;\n",
       "    }\n",
       "\n",
       "    .dataframe thead th {\n",
       "        text-align: right;\n",
       "    }\n",
       "</style>\n",
       "<table border=\"1\" class=\"dataframe\">\n",
       "  <thead>\n",
       "    <tr style=\"text-align: right;\">\n",
       "      <th></th>\n",
       "      <th>Make</th>\n",
       "      <th>Type</th>\n",
       "      <th>Year</th>\n",
       "      <th>Origin</th>\n",
       "      <th>Color</th>\n",
       "      <th>Options</th>\n",
       "      <th>Engine_Size</th>\n",
       "      <th>Fuel_Type</th>\n",
       "      <th>Gear_Type</th>\n",
       "      <th>Mileage</th>\n",
       "      <th>Region</th>\n",
       "      <th>Price</th>\n",
       "      <th>Negotiable</th>\n",
       "    </tr>\n",
       "  </thead>\n",
       "  <tbody>\n",
       "    <tr>\n",
       "      <th>0</th>\n",
       "      <td>Chrysler</td>\n",
       "      <td>C300</td>\n",
       "      <td>2018</td>\n",
       "      <td>Saudi</td>\n",
       "      <td>Black</td>\n",
       "      <td>Full</td>\n",
       "      <td>5.7</td>\n",
       "      <td>Gas</td>\n",
       "      <td>Automatic</td>\n",
       "      <td>103000</td>\n",
       "      <td>Riyadh</td>\n",
       "      <td>114000</td>\n",
       "      <td>False</td>\n",
       "    </tr>\n",
       "    <tr>\n",
       "      <th>2</th>\n",
       "      <td>Nissan</td>\n",
       "      <td>Sunny</td>\n",
       "      <td>2019</td>\n",
       "      <td>Saudi</td>\n",
       "      <td>Silver</td>\n",
       "      <td>Standard</td>\n",
       "      <td>1.5</td>\n",
       "      <td>Gas</td>\n",
       "      <td>Automatic</td>\n",
       "      <td>72418</td>\n",
       "      <td>Riyadh</td>\n",
       "      <td>27500</td>\n",
       "      <td>False</td>\n",
       "    </tr>\n",
       "    <tr>\n",
       "      <th>3</th>\n",
       "      <td>Hyundai</td>\n",
       "      <td>Elantra</td>\n",
       "      <td>2019</td>\n",
       "      <td>Saudi</td>\n",
       "      <td>Grey</td>\n",
       "      <td>Standard</td>\n",
       "      <td>1.6</td>\n",
       "      <td>Gas</td>\n",
       "      <td>Automatic</td>\n",
       "      <td>114154</td>\n",
       "      <td>Riyadh</td>\n",
       "      <td>43000</td>\n",
       "      <td>False</td>\n",
       "    </tr>\n",
       "    <tr>\n",
       "      <th>4</th>\n",
       "      <td>Hyundai</td>\n",
       "      <td>Elantra</td>\n",
       "      <td>2019</td>\n",
       "      <td>Saudi</td>\n",
       "      <td>Silver</td>\n",
       "      <td>Semi Full</td>\n",
       "      <td>2.0</td>\n",
       "      <td>Gas</td>\n",
       "      <td>Automatic</td>\n",
       "      <td>41912</td>\n",
       "      <td>Riyadh</td>\n",
       "      <td>59500</td>\n",
       "      <td>False</td>\n",
       "    </tr>\n",
       "    <tr>\n",
       "      <th>5</th>\n",
       "      <td>Honda</td>\n",
       "      <td>Accord</td>\n",
       "      <td>2018</td>\n",
       "      <td>Saudi</td>\n",
       "      <td>Navy</td>\n",
       "      <td>Full</td>\n",
       "      <td>1.5</td>\n",
       "      <td>Gas</td>\n",
       "      <td>Automatic</td>\n",
       "      <td>39000</td>\n",
       "      <td>Riyadh</td>\n",
       "      <td>72000</td>\n",
       "      <td>False</td>\n",
       "    </tr>\n",
       "    <tr>\n",
       "      <th>...</th>\n",
       "      <td>...</td>\n",
       "      <td>...</td>\n",
       "      <td>...</td>\n",
       "      <td>...</td>\n",
       "      <td>...</td>\n",
       "      <td>...</td>\n",
       "      <td>...</td>\n",
       "      <td>...</td>\n",
       "      <td>...</td>\n",
       "      <td>...</td>\n",
       "      <td>...</td>\n",
       "      <td>...</td>\n",
       "      <td>...</td>\n",
       "    </tr>\n",
       "    <tr>\n",
       "      <th>8029</th>\n",
       "      <td>Kia</td>\n",
       "      <td>Sorento</td>\n",
       "      <td>2006</td>\n",
       "      <td>Saudi</td>\n",
       "      <td>Navy</td>\n",
       "      <td>Full</td>\n",
       "      <td>3.5</td>\n",
       "      <td>Gas</td>\n",
       "      <td>Manual</td>\n",
       "      <td>257000</td>\n",
       "      <td>Dammam</td>\n",
       "      <td>15000</td>\n",
       "      <td>False</td>\n",
       "    </tr>\n",
       "    <tr>\n",
       "      <th>8030</th>\n",
       "      <td>Audi</td>\n",
       "      <td>A6</td>\n",
       "      <td>2015</td>\n",
       "      <td>Saudi</td>\n",
       "      <td>Silver</td>\n",
       "      <td>Full</td>\n",
       "      <td>3.0</td>\n",
       "      <td>Gas</td>\n",
       "      <td>Automatic</td>\n",
       "      <td>77000</td>\n",
       "      <td>Riyadh</td>\n",
       "      <td>75000</td>\n",
       "      <td>False</td>\n",
       "    </tr>\n",
       "    <tr>\n",
       "      <th>8031</th>\n",
       "      <td>Chevrolet</td>\n",
       "      <td>Camaro</td>\n",
       "      <td>2010</td>\n",
       "      <td>Saudi</td>\n",
       "      <td>Silver</td>\n",
       "      <td>Full</td>\n",
       "      <td>3.6</td>\n",
       "      <td>Gas</td>\n",
       "      <td>Automatic</td>\n",
       "      <td>150000</td>\n",
       "      <td>Riyadh</td>\n",
       "      <td>53000</td>\n",
       "      <td>False</td>\n",
       "    </tr>\n",
       "    <tr>\n",
       "      <th>8033</th>\n",
       "      <td>Nissan</td>\n",
       "      <td>Altima</td>\n",
       "      <td>2011</td>\n",
       "      <td>Saudi</td>\n",
       "      <td>Silver</td>\n",
       "      <td>Full</td>\n",
       "      <td>2.5</td>\n",
       "      <td>Gas</td>\n",
       "      <td>Automatic</td>\n",
       "      <td>18500</td>\n",
       "      <td>Aseer</td>\n",
       "      <td>22000</td>\n",
       "      <td>False</td>\n",
       "    </tr>\n",
       "    <tr>\n",
       "      <th>8034</th>\n",
       "      <td>Cadillac</td>\n",
       "      <td>Other</td>\n",
       "      <td>2013</td>\n",
       "      <td>Saudi</td>\n",
       "      <td>White</td>\n",
       "      <td>Full</td>\n",
       "      <td>3.6</td>\n",
       "      <td>Gas</td>\n",
       "      <td>Automatic</td>\n",
       "      <td>256000</td>\n",
       "      <td>Al-Medina</td>\n",
       "      <td>40000</td>\n",
       "      <td>False</td>\n",
       "    </tr>\n",
       "  </tbody>\n",
       "</table>\n",
       "<p>5385 rows × 13 columns</p>\n",
       "</div>"
      ],
      "text/plain": [
       "           Make     Type  Year Origin   Color    Options  Engine_Size  \\\n",
       "0      Chrysler     C300  2018  Saudi   Black       Full          5.7   \n",
       "2        Nissan    Sunny  2019  Saudi  Silver   Standard          1.5   \n",
       "3       Hyundai  Elantra  2019  Saudi    Grey   Standard          1.6   \n",
       "4       Hyundai  Elantra  2019  Saudi  Silver  Semi Full          2.0   \n",
       "5         Honda   Accord  2018  Saudi    Navy       Full          1.5   \n",
       "...         ...      ...   ...    ...     ...        ...          ...   \n",
       "8029        Kia  Sorento  2006  Saudi    Navy       Full          3.5   \n",
       "8030       Audi       A6  2015  Saudi  Silver       Full          3.0   \n",
       "8031  Chevrolet   Camaro  2010  Saudi  Silver       Full          3.6   \n",
       "8033     Nissan   Altima  2011  Saudi  Silver       Full          2.5   \n",
       "8034   Cadillac    Other  2013  Saudi   White       Full          3.6   \n",
       "\n",
       "     Fuel_Type  Gear_Type  Mileage     Region   Price  Negotiable  \n",
       "0          Gas  Automatic   103000     Riyadh  114000       False  \n",
       "2          Gas  Automatic    72418     Riyadh   27500       False  \n",
       "3          Gas  Automatic   114154     Riyadh   43000       False  \n",
       "4          Gas  Automatic    41912     Riyadh   59500       False  \n",
       "5          Gas  Automatic    39000     Riyadh   72000       False  \n",
       "...        ...        ...      ...        ...     ...         ...  \n",
       "8029       Gas     Manual   257000     Dammam   15000       False  \n",
       "8030       Gas  Automatic    77000     Riyadh   75000       False  \n",
       "8031       Gas  Automatic   150000     Riyadh   53000       False  \n",
       "8033       Gas  Automatic    18500      Aseer   22000       False  \n",
       "8034       Gas  Automatic   256000  Al-Medina   40000       False  \n",
       "\n",
       "[5385 rows x 13 columns]"
      ]
     },
     "execution_count": 7,
     "metadata": {},
     "output_type": "execute_result"
    }
   ],
   "source": [
    "# mask = copydf['Engine_Size'] == 9\n",
    "# values = copydf.loc[mask , :]\n",
    "# sns.countplot(x= values.Engine_Size , data = copydf)\n",
    "dfc\n"
   ]
  },
  {
   "cell_type": "markdown",
   "metadata": {},
   "source": [
    "## First plot \n",
    "### Q"
   ]
  },
  {
   "cell_type": "code",
   "execution_count": 8,
   "metadata": {},
   "outputs": [
    {
     "data": {
      "text/plain": [
       "[Text(0.5, 0, 'Cars model year'), Text(0, 0.5, 'Number of cars')]"
      ]
     },
     "execution_count": 8,
     "metadata": {},
     "output_type": "execute_result"
    },
    {
     "data": {
      "image/png": "[encoded data removed]",
      "text/plain": [
       "<Figure size 432x288 with 1 Axes>"
      ]
     },
     "metadata": {
      "needs_background": "light"
     },
     "output_type": "display_data"
    }
   ],
   "source": [
    "# make a new column that classifies the engine size\n",
    "dfc['Engine_class'] = dfc['Engine_Size'].apply(lambda x : 'Small' if x < 5 else 'Large') \n",
    "\n",
    "ax = sns.histplot(x = 'Year' , hue = 'Engine_class', data = dfc[dfc[\"Year\"] > 1990 ]) \n",
    "ax.set(xlabel='Cars model year', ylabel='Number of cars')\n",
    "\n"
   ]
  },
  {
   "cell_type": "markdown",
   "metadata": {},
   "source": [
    "## Second plot \n",
    "### corr matrix to show which variable affect the price for the overall dataset "
   ]
  },
  {
   "cell_type": "code",
   "execution_count": 9,
   "metadata": {},
   "outputs": [
    {
     "data": {
      "text/plain": [
       "<AxesSubplot:>"
      ]
     },
     "execution_count": 9,
     "metadata": {},
     "output_type": "execute_result"
    },
    {
     "data": {
      "image/png": "[encoded data removed]",
      "text/plain": [
       "<Figure size 432x288 with 2 Axes>"
      ]
     },
     "metadata": {
      "needs_background": "light"
     },
     "output_type": "display_data"
    }
   ],
   "source": [
    "# first a general corr then a corr based on every car cmopany \n",
    "# General corr \n",
    "#\n",
    "# Configure a custom diverging colormap\n",
    "#\n",
    "cmap = sns.diverging_palette(230, 20, as_cmap=True)\n",
    "#\n",
    "# Draw the heatmap\n",
    "#\n",
    "sns.heatmap(dfc.corr(), annot=True, cmap=cmap)"
   ]
  },
  {
   "cell_type": "code",
   "execution_count": 10,
   "metadata": {},
   "outputs": [
    {
     "ename": "NameError",
     "evalue": "name 'top' is not defined",
     "output_type": "error",
     "traceback": [
      "\u001b[1;31m---------------------------------------------------------------------------\u001b[0m",
      "\u001b[1;31mNameError\u001b[0m                                 Traceback (most recent call last)",
      "Input \u001b[1;32mIn [10]\u001b[0m, in \u001b[0;36m<cell line: 1>\u001b[1;34m()\u001b[0m\n\u001b[1;32m----> 1\u001b[0m \u001b[38;5;28msum\u001b[39m(\u001b[38;5;28mlist\u001b[39m(\u001b[43mtop\u001b[49m\u001b[38;5;241m.\u001b[39mvalues()))\u001b[38;5;241m/\u001b[39m \u001b[38;5;28mlen\u001b[39m(dfc) \u001b[38;5;241m*\u001b[39m \u001b[38;5;241m100\u001b[39m\n",
      "\u001b[1;31mNameError\u001b[0m: name 'top' is not defined"
     ]
    }
   ],
   "source": [
    "sum(list(top.values()))/ len(dfc) * 100 "
   ]
  },
  {
   "cell_type": "markdown",
   "metadata": {},
   "source": [
    "## Third plot \n",
    "### more analysis to see What is the variable that affect the price for the top car makers ? "
   ]
  },
  {
   "cell_type": "code",
   "execution_count": null,
   "metadata": {},
   "outputs": [],
   "source": [
    "\n",
    "# First we take the unique values in 'Make' and the count for them. \n",
    "# The following code will creat a list for the maker names and for the count and make it a dict\n",
    "maker_name, cars_counts = np.unique(dfc['Make'],return_counts=True)\n",
    "d = dict(zip(maker_name,cars_counts))\n",
    "top = {}\n",
    "# Creat a new dict where we only have the top 12 cars makers as they represent 85% of the dataset \n",
    "for key, value in sorted(d.items(), key=lambda item: item[1], reverse= True)[:12]:\n",
    "    top[key] = value  \n",
    "nCols=3   # The number of columns that you want\n",
    "nRows=4   # The number of correspomding rows \n",
    "\n",
    "fig,axes = plt.subplots(nRows, nCols, figsize=(25,25))\n",
    "for ind,v in enumerate(top.keys()):\n",
    "    cmap = sns.diverging_palette(230, 20, as_cmap=True)\n",
    "    ax = sns.heatmap(dfc[dfc[\"Make\"]== v ].corr(), annot=True, cmap=cmap,ax=axes.flatten()[ind])\n",
    "    ax.title.set_text(v) \n",
    "\n",
    "plt.show() "
   ]
  },
  {
   "cell_type": "code",
   "execution_count": null,
   "metadata": {},
   "outputs": [],
   "source": [
    "len(dfc[dfc[\"Year\"] > 1990]) / len(dfc)  *100\n"
   ]
  },
  {
   "cell_type": "markdown",
   "metadata": {},
   "source": [
    "## Fourth plot \n",
    "### regarding the average price of used cars in the Fuel & Gear "
   ]
  },
  {
   "cell_type": "code",
   "execution_count": null,
   "metadata": {},
   "outputs": [],
   "source": [
    "\n",
    "col = dfc.loc[:,['Fuel_Type','Gear_Type']]\n",
    "col \n",
    "fig,axes = plt.subplots(2, 1, figsize=(5,10))\n",
    "for ind,c in enumerate(col):\n",
    "    ax = sns.boxplot(y='Price', x = c ,data=dfc,ax=axes.flatten()[ind])\n",
    "    ax.title.set_text(c) \n",
    "\n",
    "plt.show() \n"
   ]
  },
  {
   "cell_type": "markdown",
   "metadata": {},
   "source": [
    "### More details for which cars have a higher price \n",
    "### The plot shows that Automatic cars in general have higher average price "
   ]
  },
  {
   "cell_type": "code",
   "execution_count": null,
   "metadata": {},
   "outputs": [],
   "source": [
    "plt.figure(figsize=(7,15)) \n",
    "\n",
    "sns.boxplot(y='Price', x = 'Fuel_Type', hue = 'Gear_Type',data=dfc)\n",
    "plt.show()\n"
   ]
  },
  {
   "cell_type": "code",
   "execution_count": null,
   "metadata": {},
   "outputs": [],
   "source": [
    "\n",
    "d = dict(dfc.nunique()) \n",
    "s = pd.DataFrame(d.items(), columns=['Variable Name', 'Unique Values'])\n",
    "s "
   ]
  },
  {
   "cell_type": "code",
   "execution_count": null,
   "metadata": {},
   "outputs": [],
   "source": [
    "### Make a table for the report that shows the variable name and the count of the unique values\n",
    "from tabulate import tabulate\n",
    "\n",
    "print(tabulate(s, headers = 'keys', tablefmt = 'github'))\n"
   ]
  },
  {
   "cell_type": "markdown",
   "metadata": {},
   "source": [
    "## Plot \n",
    "### show the density distribution for the price based on the car origin"
   ]
  },
  {
   "cell_type": "code",
   "execution_count": null,
   "metadata": {},
   "outputs": [],
   "source": [
    "plt.figure(figsize=(15,5))\n",
    "plt.subplot(1,2,1)\n",
    "plt.title('Origin Histogram')\n",
    "sns.countplot(x = 'Origin' , data = dfc)\n",
    "\n",
    "plt.subplot(1,2,2)\n",
    "plt.title('Origin vs Price')\n",
    "sns.boxplot(x = 'Origin' , y = 'Price',data = dfc)\n",
    "\n",
    "plt.ticklabel_format(useOffset=False, style='plain', axis='y')\n",
    "plt.show()\n",
    "# the plot show that the saudi cars price have a high density between 0-200K. The gulf cars  \n",
    "# have highest average"
   ]
  },
  {
   "cell_type": "code",
   "execution_count": null,
   "metadata": {},
   "outputs": [],
   "source": []
  }
 ],
 "metadata": {
  "kernelspec": {
   "display_name": "Python 3 (ipykernel)",
   "language": "python",
   "name": "python3"
  },
  "language_info": {
   "codemirror_mode": {
    "name": "ipython",
    "version": 3
   },
   "file_extension": ".py",
   "mimetype": "text/x-python",
   "name": "python",
   "nbconvert_exporter": "python",
   "pygments_lexer": "ipython3",
   "version": "3.9.12"
  },
  "vscode": {
   "interpreter": {
    "hash": "d4d1e4263499bec80672ea0156c357c1ee493ec2b1c70f0acce89fc37c4a6abe"
   }
  }
 },
 "nbformat": 4,
 "nbformat_minor": 2
}
